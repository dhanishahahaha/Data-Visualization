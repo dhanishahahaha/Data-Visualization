{
 "cells": [
  {
   "cell_type": "markdown",
   "id": "7b523637",
   "metadata": {
    "papermill": {
     "duration": 0.006822,
     "end_time": "2023-02-27T20:16:29.090052",
     "exception": false,
     "start_time": "2023-02-27T20:16:29.083230",
     "status": "completed"
    },
    "tags": []
   },
   "source": [
    "**This notebook is an exercise in the [Data Visualization](https://www.kaggle.com/learn/data-visualization) course.  You can reference the tutorial at [this link](https://www.kaggle.com/alexisbcook/line-charts).**\n",
    "\n",
    "---\n"
   ]
  },
  {
   "cell_type": "markdown",
   "id": "d4f9d0c6",
   "metadata": {
    "papermill": {
     "duration": 0.005202,
     "end_time": "2023-02-27T20:16:29.101124",
     "exception": false,
     "start_time": "2023-02-27T20:16:29.095922",
     "status": "completed"
    },
    "tags": []
   },
   "source": [
    "In this exercise, you will use your new knowledge to propose a solution to a real-world scenario. To succeed, you will need to import data into Python, answer questions using the data, and generate **line charts** to understand patterns in the data.\n",
    "\n",
    "## Scenario\n",
    "\n",
    "You have recently been hired to manage the museums in the City of Los Angeles. Your first project focuses on the four museums pictured in the images below.\n",
    "\n",
    "![ex1_museums](https://i.imgur.com/pFYL8J1.png)\n",
    "\n",
    "You will leverage data from the Los Angeles [Data Portal](https://data.lacity.org/) that tracks monthly visitors to each museum.  \n",
    "\n",
    "![ex1_xlsx](https://i.imgur.com/mGWYlym.png)\n",
    "\n",
    "## Setup\n",
    "\n",
    "Run the next cell to import and configure the Python libraries that you need to complete the exercise."
   ]
  },
  {
   "cell_type": "code",
   "execution_count": 1,
   "id": "774f34ae",
   "metadata": {
    "execution": {
     "iopub.execute_input": "2023-02-27T20:16:29.114388Z",
     "iopub.status.busy": "2023-02-27T20:16:29.113786Z",
     "iopub.status.idle": "2023-02-27T20:16:30.481808Z",
     "shell.execute_reply": "2023-02-27T20:16:30.480255Z"
    },
    "papermill": {
     "duration": 1.378321,
     "end_time": "2023-02-27T20:16:30.484965",
     "exception": false,
     "start_time": "2023-02-27T20:16:29.106644",
     "status": "completed"
    },
    "tags": []
   },
   "outputs": [
    {
     "name": "stdout",
     "output_type": "stream",
     "text": [
      "Setup Complete\n"
     ]
    }
   ],
   "source": [
    "import pandas as pd\n",
    "pd.plotting.register_matplotlib_converters()\n",
    "import matplotlib.pyplot as plt\n",
    "%matplotlib inline\n",
    "import seaborn as sns\n",
    "print(\"Setup Complete\")"
   ]
  },
  {
   "cell_type": "markdown",
   "id": "b19636c7",
   "metadata": {
    "papermill": {
     "duration": 0.006492,
     "end_time": "2023-02-27T20:16:30.497556",
     "exception": false,
     "start_time": "2023-02-27T20:16:30.491064",
     "status": "completed"
    },
    "tags": []
   },
   "source": [
    "The questions below will give you feedback on your work. Run the following cell to set up the feedback system."
   ]
  },
  {
   "cell_type": "code",
   "execution_count": 2,
   "id": "3a696c33",
   "metadata": {
    "execution": {
     "iopub.execute_input": "2023-02-27T20:16:30.512418Z",
     "iopub.status.busy": "2023-02-27T20:16:30.512002Z",
     "iopub.status.idle": "2023-02-27T20:16:30.587032Z",
     "shell.execute_reply": "2023-02-27T20:16:30.584782Z"
    },
    "papermill": {
     "duration": 0.086645,
     "end_time": "2023-02-27T20:16:30.591088",
     "exception": false,
     "start_time": "2023-02-27T20:16:30.504443",
     "status": "completed"
    },
    "tags": []
   },
   "outputs": [
    {
     "name": "stdout",
     "output_type": "stream",
     "text": [
      "Setup Complete\n"
     ]
    }
   ],
   "source": [
    "# Set up code checking\n",
    "import os\n",
    "if not os.path.exists(\"../input/museum_visitors.csv\"):\n",
    "    os.symlink(\"../input/data-for-datavis/museum_visitors.csv\", \"../input/museum_visitors.csv\") \n",
    "from learntools.core import binder\n",
    "binder.bind(globals())\n",
    "from learntools.data_viz_to_coder.ex2 import *\n",
    "print(\"Setup Complete\")"
   ]
  },
  {
   "cell_type": "markdown",
   "id": "b196e041",
   "metadata": {
    "papermill": {
     "duration": 0.005701,
     "end_time": "2023-02-27T20:16:30.603149",
     "exception": false,
     "start_time": "2023-02-27T20:16:30.597448",
     "status": "completed"
    },
    "tags": []
   },
   "source": [
    "## Step 1: Load the data\n",
    "\n",
    "Your first assignment is to read the LA Museum Visitors data file into `museum_data`.  Note that:\n",
    "- The filepath to the dataset is stored as `museum_filepath`.  Please **do not** change the provided value of the filepath.\n",
    "- The name of the column to use as row labels is `\"Date\"`.  (This can be seen in cell A1 when the file is opened in Excel.)\n",
    "\n",
    "To help with this, you may find it useful to revisit some relevant code from the tutorial, which we have pasted below:\n",
    "\n",
    "```python\n",
    "# Path of the file to read\n",
    "spotify_filepath = \"../input/spotify.csv\"\n",
    "\n",
    "# Read the file into a variable spotify_data\n",
    "spotify_data = pd.read_csv(spotify_filepath, index_col=\"Date\", parse_dates=True)\n",
    "```\n",
    "\n",
    "The code you need to write now looks very similar!"
   ]
  },
  {
   "cell_type": "code",
   "execution_count": 3,
   "id": "19836102",
   "metadata": {
    "execution": {
     "iopub.execute_input": "2023-02-27T20:16:30.619513Z",
     "iopub.status.busy": "2023-02-27T20:16:30.618771Z",
     "iopub.status.idle": "2023-02-27T20:16:30.636272Z",
     "shell.execute_reply": "2023-02-27T20:16:30.634753Z"
    },
    "papermill": {
     "duration": 0.02906,
     "end_time": "2023-02-27T20:16:30.639311",
     "exception": false,
     "start_time": "2023-02-27T20:16:30.610251",
     "status": "completed"
    },
    "tags": []
   },
   "outputs": [
    {
     "data": {
      "application/javascript": [
       "parent.postMessage({\"jupyterEvent\": \"custom.exercise_interaction\", \"data\": {\"outcomeType\": 1, \"valueTowardsCompletion\": 0.3333333333333333, \"interactionType\": 1, \"questionType\": 1, \"questionId\": \"1_LoadMuseumData\", \"learnToolsVersion\": \"0.3.4\", \"failureMessage\": \"\", \"exceptionClass\": \"\", \"trace\": \"\"}}, \"*\")"
      ],
      "text/plain": [
       "<IPython.core.display.Javascript object>"
      ]
     },
     "metadata": {},
     "output_type": "display_data"
    },
    {
     "data": {
      "text/markdown": [
       "<span style=\"color:#33cc33\">Correct</span>"
      ],
      "text/plain": [
       "Correct"
      ]
     },
     "metadata": {},
     "output_type": "display_data"
    }
   ],
   "source": [
    "# Path of the file to read\n",
    "museum_filepath = \"../input/museum_visitors.csv\"\n",
    "\n",
    "# Fill in the line below to read the file into a variable museum_data\n",
    "museum_data = pd.read_csv(museum_filepath , index_col = 'Date' , parse_dates = True)\n",
    "\n",
    "# Run the line below with no changes to check that you've loaded the data correctly\n",
    "step_1.check()"
   ]
  },
  {
   "cell_type": "code",
   "execution_count": 4,
   "id": "afed2f65",
   "metadata": {
    "execution": {
     "iopub.execute_input": "2023-02-27T20:16:30.653641Z",
     "iopub.status.busy": "2023-02-27T20:16:30.652441Z",
     "iopub.status.idle": "2023-02-27T20:16:30.657503Z",
     "shell.execute_reply": "2023-02-27T20:16:30.656209Z"
    },
    "papermill": {
     "duration": 0.015104,
     "end_time": "2023-02-27T20:16:30.660411",
     "exception": false,
     "start_time": "2023-02-27T20:16:30.645307",
     "status": "completed"
    },
    "tags": []
   },
   "outputs": [],
   "source": [
    "# Uncomment the line below to receive a hint\n",
    "#step_1.hint()\n",
    "# Uncomment the line below to see the solution\n",
    "#step_1.solution()"
   ]
  },
  {
   "cell_type": "markdown",
   "id": "b06c14b3",
   "metadata": {
    "papermill": {
     "duration": 0.00608,
     "end_time": "2023-02-27T20:16:30.672603",
     "exception": false,
     "start_time": "2023-02-27T20:16:30.666523",
     "status": "completed"
    },
    "tags": []
   },
   "source": [
    "## Step 2: Review the data\n",
    "\n",
    "Use a Python command to print the last 5 rows of the data."
   ]
  },
  {
   "cell_type": "code",
   "execution_count": 5,
   "id": "9746bce4",
   "metadata": {
    "execution": {
     "iopub.execute_input": "2023-02-27T20:16:30.686802Z",
     "iopub.status.busy": "2023-02-27T20:16:30.686370Z",
     "iopub.status.idle": "2023-02-27T20:16:30.713398Z",
     "shell.execute_reply": "2023-02-27T20:16:30.711746Z"
    },
    "papermill": {
     "duration": 0.038102,
     "end_time": "2023-02-27T20:16:30.716821",
     "exception": false,
     "start_time": "2023-02-27T20:16:30.678719",
     "status": "completed"
    },
    "tags": []
   },
   "outputs": [
    {
     "data": {
      "text/html": [
       "<div>\n",
       "<style scoped>\n",
       "    .dataframe tbody tr th:only-of-type {\n",
       "        vertical-align: middle;\n",
       "    }\n",
       "\n",
       "    .dataframe tbody tr th {\n",
       "        vertical-align: top;\n",
       "    }\n",
       "\n",
       "    .dataframe thead th {\n",
       "        text-align: right;\n",
       "    }\n",
       "</style>\n",
       "<table border=\"1\" class=\"dataframe\">\n",
       "  <thead>\n",
       "    <tr style=\"text-align: right;\">\n",
       "      <th></th>\n",
       "      <th>Avila Adobe</th>\n",
       "      <th>Firehouse Museum</th>\n",
       "      <th>Chinese American Museum</th>\n",
       "      <th>America Tropical Interpretive Center</th>\n",
       "    </tr>\n",
       "    <tr>\n",
       "      <th>Date</th>\n",
       "      <th></th>\n",
       "      <th></th>\n",
       "      <th></th>\n",
       "      <th></th>\n",
       "    </tr>\n",
       "  </thead>\n",
       "  <tbody>\n",
       "    <tr>\n",
       "      <th>2018-07-01</th>\n",
       "      <td>23136</td>\n",
       "      <td>4191</td>\n",
       "      <td>2620</td>\n",
       "      <td>4718</td>\n",
       "    </tr>\n",
       "    <tr>\n",
       "      <th>2018-08-01</th>\n",
       "      <td>20815</td>\n",
       "      <td>4866</td>\n",
       "      <td>2409</td>\n",
       "      <td>3891</td>\n",
       "    </tr>\n",
       "    <tr>\n",
       "      <th>2018-09-01</th>\n",
       "      <td>21020</td>\n",
       "      <td>4956</td>\n",
       "      <td>2146</td>\n",
       "      <td>3180</td>\n",
       "    </tr>\n",
       "    <tr>\n",
       "      <th>2018-10-01</th>\n",
       "      <td>19280</td>\n",
       "      <td>4622</td>\n",
       "      <td>2364</td>\n",
       "      <td>3775</td>\n",
       "    </tr>\n",
       "    <tr>\n",
       "      <th>2018-11-01</th>\n",
       "      <td>17163</td>\n",
       "      <td>4082</td>\n",
       "      <td>2385</td>\n",
       "      <td>4562</td>\n",
       "    </tr>\n",
       "  </tbody>\n",
       "</table>\n",
       "</div>"
      ],
      "text/plain": [
       "            Avila Adobe  Firehouse Museum  Chinese American Museum  \\\n",
       "Date                                                                 \n",
       "2018-07-01        23136              4191                     2620   \n",
       "2018-08-01        20815              4866                     2409   \n",
       "2018-09-01        21020              4956                     2146   \n",
       "2018-10-01        19280              4622                     2364   \n",
       "2018-11-01        17163              4082                     2385   \n",
       "\n",
       "            America Tropical Interpretive Center  \n",
       "Date                                              \n",
       "2018-07-01                                  4718  \n",
       "2018-08-01                                  3891  \n",
       "2018-09-01                                  3180  \n",
       "2018-10-01                                  3775  \n",
       "2018-11-01                                  4562  "
      ]
     },
     "execution_count": 5,
     "metadata": {},
     "output_type": "execute_result"
    }
   ],
   "source": [
    "# Print the last five rows of the data \n",
    "museum_data.tail(5) # Your code here"
   ]
  },
  {
   "cell_type": "markdown",
   "id": "8a05306a",
   "metadata": {
    "papermill": {
     "duration": 0.006541,
     "end_time": "2023-02-27T20:16:30.729785",
     "exception": false,
     "start_time": "2023-02-27T20:16:30.723244",
     "status": "completed"
    },
    "tags": []
   },
   "source": [
    "The last row (for `2018-11-01`) tracks the number of visitors to each museum in November 2018, the next-to-last row (for `2018-10-01`) tracks the number of visitors to each museum in October 2018, _and so on_.\n",
    "\n",
    "Use the last 5 rows of the data to answer the questions below."
   ]
  },
  {
   "cell_type": "code",
   "execution_count": 6,
   "id": "fc33793d",
   "metadata": {
    "execution": {
     "iopub.execute_input": "2023-02-27T20:16:30.746653Z",
     "iopub.status.busy": "2023-02-27T20:16:30.746244Z",
     "iopub.status.idle": "2023-02-27T20:16:30.757037Z",
     "shell.execute_reply": "2023-02-27T20:16:30.755403Z"
    },
    "papermill": {
     "duration": 0.022952,
     "end_time": "2023-02-27T20:16:30.760394",
     "exception": false,
     "start_time": "2023-02-27T20:16:30.737442",
     "status": "completed"
    },
    "tags": []
   },
   "outputs": [
    {
     "data": {
      "application/javascript": [
       "parent.postMessage({\"jupyterEvent\": \"custom.exercise_interaction\", \"data\": {\"outcomeType\": 1, \"valueTowardsCompletion\": 0.3333333333333333, \"interactionType\": 1, \"questionType\": 1, \"questionId\": \"2_ReviewData\", \"learnToolsVersion\": \"0.3.4\", \"failureMessage\": \"\", \"exceptionClass\": \"\", \"trace\": \"\"}}, \"*\")"
      ],
      "text/plain": [
       "<IPython.core.display.Javascript object>"
      ]
     },
     "metadata": {},
     "output_type": "display_data"
    },
    {
     "data": {
      "text/markdown": [
       "<span style=\"color:#33cc33\">Correct</span>"
      ],
      "text/plain": [
       "Correct"
      ]
     },
     "metadata": {},
     "output_type": "display_data"
    }
   ],
   "source": [
    "# Fill in the line below: How many visitors did the Chinese American Museum \n",
    "# receive in July 2018?\n",
    "ca_museum_jul18 = 2620\n",
    "\n",
    "# Fill in the line below: In October 2018, how many more visitors did Avila \n",
    "# Adobe receive than the Firehouse Museum?\n",
    "avila_oct18 = 14658\n",
    "\n",
    "# Check your answers\n",
    "step_2.check()"
   ]
  },
  {
   "cell_type": "code",
   "execution_count": 7,
   "id": "9bf84c28",
   "metadata": {
    "execution": {
     "iopub.execute_input": "2023-02-27T20:16:30.775974Z",
     "iopub.status.busy": "2023-02-27T20:16:30.775512Z",
     "iopub.status.idle": "2023-02-27T20:16:30.781713Z",
     "shell.execute_reply": "2023-02-27T20:16:30.779939Z"
    },
    "papermill": {
     "duration": 0.017301,
     "end_time": "2023-02-27T20:16:30.784732",
     "exception": false,
     "start_time": "2023-02-27T20:16:30.767431",
     "status": "completed"
    },
    "tags": []
   },
   "outputs": [],
   "source": [
    "# Lines below will give you a hint or solution code\n",
    "#step_2.hint()\n",
    "#step_2.solution()"
   ]
  },
  {
   "cell_type": "markdown",
   "id": "55ac15cc",
   "metadata": {
    "papermill": {
     "duration": 0.00626,
     "end_time": "2023-02-27T20:16:30.797532",
     "exception": false,
     "start_time": "2023-02-27T20:16:30.791272",
     "status": "completed"
    },
    "tags": []
   },
   "source": [
    "## Step 3: Convince the museum board \n",
    "\n",
    "The Firehouse Museum claims they ran an event in 2014 that brought an incredible number of visitors, and that they should get extra budget to run a similar event again.  The other museums think these types of events aren't that important, and budgets should be split purely based on recent visitors on an average day.  \n",
    "\n",
    "To show the museum board how the event compared to regular traffic at each museum, create a line chart that shows how the number of visitors to each museum evolved over time.  Your figure should have four lines (one for each museum).\n",
    "\n",
    "> **(Optional) Note**: If you have some prior experience with plotting figures in Python, you might be familiar with the `plt.show()` command.  If you decide to use this command, please place it **after** the line of code that checks your answer (in this case, place it after `step_3.check()` below) -- otherwise, the checking code will return an error!"
   ]
  },
  {
   "cell_type": "code",
   "execution_count": 8,
   "id": "eabea5a2",
   "metadata": {
    "execution": {
     "iopub.execute_input": "2023-02-27T20:16:30.812938Z",
     "iopub.status.busy": "2023-02-27T20:16:30.811995Z",
     "iopub.status.idle": "2023-02-27T20:16:31.282391Z",
     "shell.execute_reply": "2023-02-27T20:16:31.281458Z"
    },
    "papermill": {
     "duration": 0.48136,
     "end_time": "2023-02-27T20:16:31.285486",
     "exception": false,
     "start_time": "2023-02-27T20:16:30.804126",
     "status": "completed"
    },
    "tags": []
   },
   "outputs": [
    {
     "data": {
      "application/javascript": [
       "parent.postMessage({\"jupyterEvent\": \"custom.exercise_interaction\", \"data\": {\"outcomeType\": 1, \"valueTowardsCompletion\": 0.3333333333333333, \"interactionType\": 1, \"questionType\": 2, \"questionId\": \"3_PlotAll\", \"learnToolsVersion\": \"0.3.4\", \"failureMessage\": \"\", \"exceptionClass\": \"\", \"trace\": \"\"}}, \"*\")"
      ],
      "text/plain": [
       "<IPython.core.display.Javascript object>"
      ]
     },
     "metadata": {},
     "output_type": "display_data"
    },
    {
     "data": {
      "text/markdown": [
       "<span style=\"color:#33cc33\">Correct</span>"
      ],
      "text/plain": [
       "Correct"
      ]
     },
     "metadata": {},
     "output_type": "display_data"
    },
    {
     "data": {
      "image/png": "[encoded data removed]",
      "text/plain": [
       "<Figure size 640x480 with 1 Axes>"
      ]
     },
     "metadata": {},
     "output_type": "display_data"
    }
   ],
   "source": [
    "# Line chart showing the number of visitors to each museum over time\n",
    "plt.figsize=(16,5)\n",
    "sns.lineplot(data=museum_data) # Your code here\n",
    "\n",
    "# Check your answer\n",
    "step_3.check()"
   ]
  },
  {
   "cell_type": "code",
   "execution_count": 9,
   "id": "51d20e1b",
   "metadata": {
    "execution": {
     "iopub.execute_input": "2023-02-27T20:16:31.304529Z",
     "iopub.status.busy": "2023-02-27T20:16:31.303333Z",
     "iopub.status.idle": "2023-02-27T20:16:31.308825Z",
     "shell.execute_reply": "2023-02-27T20:16:31.307561Z"
    },
    "papermill": {
     "duration": 0.017688,
     "end_time": "2023-02-27T20:16:31.311561",
     "exception": false,
     "start_time": "2023-02-27T20:16:31.293873",
     "status": "completed"
    },
    "tags": []
   },
   "outputs": [],
   "source": [
    "# Lines below will give you a hint or solution code\n",
    "#step_3.hint()\n",
    "#step_3.solution_plot()"
   ]
  },
  {
   "cell_type": "markdown",
   "id": "1b638949",
   "metadata": {
    "papermill": {
     "duration": 0.00754,
     "end_time": "2023-02-27T20:16:31.327213",
     "exception": false,
     "start_time": "2023-02-27T20:16:31.319673",
     "status": "completed"
    },
    "tags": []
   },
   "source": [
    "## Step 4: Assess seasonality\n",
    "\n",
    "When meeting with the employees at Avila Adobe, you hear that one major pain point is that the number of museum visitors varies greatly with the seasons, with low seasons (when the employees are perfectly staffed and happy) and also high seasons (when the employees are understaffed and stressed).  You realize that if you can predict these high and low seasons, you can plan ahead to hire some additional seasonal employees to help out with the extra work.\n",
    "\n",
    "#### Part A\n",
    "Create a line chart that shows how the number of visitors to Avila Adobe has evolved over time.  (_If your code returns an error, the first thing that you should check is that you've spelled the name of the column correctly!  You must write the name of the column exactly as it appears in the dataset._)"
   ]
  },
  {
   "cell_type": "code",
   "execution_count": 10,
   "id": "7344a02f",
   "metadata": {
    "execution": {
     "iopub.execute_input": "2023-02-27T20:16:31.345483Z",
     "iopub.status.busy": "2023-02-27T20:16:31.345051Z",
     "iopub.status.idle": "2023-02-27T20:16:31.656050Z",
     "shell.execute_reply": "2023-02-27T20:16:31.654903Z"
    },
    "papermill": {
     "duration": 0.32328,
     "end_time": "2023-02-27T20:16:31.658828",
     "exception": false,
     "start_time": "2023-02-27T20:16:31.335548",
     "status": "completed"
    },
    "tags": []
   },
   "outputs": [
    {
     "name": "stdout",
     "output_type": "stream",
     "text": [
      "Thank you for creating a line chart!  To see how your code compares to the official solution, please use the code cell below.\n"
     ]
    },
    {
     "data": {
      "application/javascript": [
       "parent.postMessage({\"jupyterEvent\": \"custom.exercise_interaction\", \"data\": {\"outcomeType\": 1, \"valueTowardsCompletion\": 0.3333333333333333, \"interactionType\": 1, \"questionType\": 2, \"questionId\": \"4.1_PlotAvila\", \"learnToolsVersion\": \"0.3.4\", \"failureMessage\": \"\", \"exceptionClass\": \"\", \"trace\": \"\"}}, \"*\")"
      ],
      "text/plain": [
       "<IPython.core.display.Javascript object>"
      ]
     },
     "metadata": {},
     "output_type": "display_data"
    },
    {
     "data": {
      "text/markdown": [
       "<span style=\"color:#33cc33\">Correct</span>"
      ],
      "text/plain": [
       "Correct"
      ]
     },
     "metadata": {},
     "output_type": "display_data"
    },
    {
     "data": {
      "image/png": "[encoded data removed]",
      "text/plain": [
       "<Figure size 640x480 with 1 Axes>"
      ]
     },
     "metadata": {},
     "output_type": "display_data"
    }
   ],
   "source": [
    "# Line plot showing the number of visitors to Avila Adobe over time\n",
    "plt.figsize=(16,5) # Your code here\n",
    "sns.lineplot(data=museum_data['Avila Adobe'],label = 'Avila Adobe')\n",
    "\n",
    "# Check your answer\n",
    "step_4.a.check()"
   ]
  },
  {
   "cell_type": "code",
   "execution_count": 11,
   "id": "aa444257",
   "metadata": {
    "execution": {
     "iopub.execute_input": "2023-02-27T20:16:31.679730Z",
     "iopub.status.busy": "2023-02-27T20:16:31.679314Z",
     "iopub.status.idle": "2023-02-27T20:16:31.684730Z",
     "shell.execute_reply": "2023-02-27T20:16:31.683865Z"
    },
    "papermill": {
     "duration": 0.018641,
     "end_time": "2023-02-27T20:16:31.686936",
     "exception": false,
     "start_time": "2023-02-27T20:16:31.668295",
     "status": "completed"
    },
    "tags": []
   },
   "outputs": [],
   "source": [
    "# Lines below will give you a hint or solution code\n",
    "#step_4.a.hint()\n",
    "#step_4.a.solution_plot()"
   ]
  },
  {
   "cell_type": "markdown",
   "id": "55db2ada",
   "metadata": {
    "papermill": {
     "duration": 0.008556,
     "end_time": "2023-02-27T20:16:31.704596",
     "exception": false,
     "start_time": "2023-02-27T20:16:31.696040",
     "status": "completed"
    },
    "tags": []
   },
   "source": [
    "#### Part B\n",
    "\n",
    "Does Avila Adobe get more visitors:\n",
    "- in September-February (in LA, the fall and winter months), or \n",
    "- in March-August (in LA, the spring and summer)?  \n",
    "\n",
    "Using this information, when should the museum staff additional seasonal employees?"
   ]
  },
  {
   "cell_type": "code",
   "execution_count": 12,
   "id": "963cafc3",
   "metadata": {
    "execution": {
     "iopub.execute_input": "2023-02-27T20:16:31.725535Z",
     "iopub.status.busy": "2023-02-27T20:16:31.724173Z",
     "iopub.status.idle": "2023-02-27T20:16:31.733642Z",
     "shell.execute_reply": "2023-02-27T20:16:31.732182Z"
    },
    "papermill": {
     "duration": 0.022556,
     "end_time": "2023-02-27T20:16:31.736241",
     "exception": false,
     "start_time": "2023-02-27T20:16:31.713685",
     "status": "completed"
    },
    "tags": []
   },
   "outputs": [
    {
     "data": {
      "application/javascript": [
       "parent.postMessage({\"jupyterEvent\": \"custom.exercise_interaction\", \"data\": {\"interactionType\": 2, \"questionType\": 4, \"questionId\": \"4.2_ThinkAvila\", \"learnToolsVersion\": \"0.3.4\", \"valueTowardsCompletion\": 0.0, \"failureMessage\": \"\", \"exceptionClass\": \"\", \"trace\": \"\", \"outcomeType\": 4}}, \"*\")"
      ],
      "text/plain": [
       "<IPython.core.display.Javascript object>"
      ]
     },
     "metadata": {},
     "output_type": "display_data"
    },
    {
     "data": {
      "text/markdown": [
       "<span style=\"color:#3366cc\">Hint:</span> Look at the early part of each year (around January).  Does the line chart dip to low values or reach relatively high values?"
      ],
      "text/plain": [
       "Hint: Look at the early part of each year (around January).  Does the line chart dip to low values or reach relatively high values?"
      ]
     },
     "metadata": {},
     "output_type": "display_data"
    }
   ],
   "source": [
    "step_4.b.hint()"
   ]
  },
  {
   "cell_type": "code",
   "execution_count": 13,
   "id": "aeb311d2",
   "metadata": {
    "execution": {
     "iopub.execute_input": "2023-02-27T20:16:31.757063Z",
     "iopub.status.busy": "2023-02-27T20:16:31.756206Z",
     "iopub.status.idle": "2023-02-27T20:16:31.764702Z",
     "shell.execute_reply": "2023-02-27T20:16:31.763691Z"
    },
    "papermill": {
     "duration": 0.021502,
     "end_time": "2023-02-27T20:16:31.767084",
     "exception": false,
     "start_time": "2023-02-27T20:16:31.745582",
     "status": "completed"
    },
    "tags": []
   },
   "outputs": [
    {
     "data": {
      "application/javascript": [
       "parent.postMessage({\"jupyterEvent\": \"custom.exercise_interaction\", \"data\": {\"interactionType\": 3, \"questionType\": 4, \"questionId\": \"4.2_ThinkAvila\", \"learnToolsVersion\": \"0.3.4\", \"valueTowardsCompletion\": 0.0, \"failureMessage\": \"\", \"exceptionClass\": \"\", \"trace\": \"\", \"outcomeType\": 4}}, \"*\")"
      ],
      "text/plain": [
       "<IPython.core.display.Javascript object>"
      ]
     },
     "metadata": {},
     "output_type": "display_data"
    },
    {
     "data": {
      "text/markdown": [
       "<span style=\"color:#33cc99\">Solution:</span> The line chart generally dips to relatively low values around the early part of each year (in December and January), and reaches its highest values in the middle of the year (especially around May and June).  Thus, Avila Adobe usually gets more visitors in March-August (or the spring and summer months).  With this in mind, Avila Adobe could definitely benefit from hiring more seasonal employees to help with the extra work in March-August (the spring and summer)!"
      ],
      "text/plain": [
       "Solution: The line chart generally dips to relatively low values around the early part of each year (in December and January), and reaches its highest values in the middle of the year (especially around May and June).  Thus, Avila Adobe usually gets more visitors in March-August (or the spring and summer months).  With this in mind, Avila Adobe could definitely benefit from hiring more seasonal employees to help with the extra work in March-August (the spring and summer)!"
      ]
     },
     "metadata": {},
     "output_type": "display_data"
    }
   ],
   "source": [
    "# Check your answer (Run this code cell to receive credit!)\n",
    "step_4.b.solution()"
   ]
  },
  {
   "cell_type": "markdown",
   "id": "7e2326c5",
   "metadata": {
    "papermill": {
     "duration": 0.009209,
     "end_time": "2023-02-27T20:16:31.785873",
     "exception": false,
     "start_time": "2023-02-27T20:16:31.776664",
     "status": "completed"
    },
    "tags": []
   },
   "source": [
    "# Keep going\n",
    "\n",
    "Move on to learn about **[bar charts and heatmaps](https://www.kaggle.com/alexisbcook/bar-charts-and-heatmaps)** with a new dataset!"
   ]
  },
  {
   "cell_type": "markdown",
   "id": "57a395ce",
   "metadata": {
    "papermill": {
     "duration": 0.009263,
     "end_time": "2023-02-27T20:16:31.805303",
     "exception": false,
     "start_time": "2023-02-27T20:16:31.796040",
     "status": "completed"
    },
    "tags": []
   },
   "source": [
    "---\n",
    "\n",
    "\n",
    "\n",
    "\n",
    "*Have questions or comments? Visit the [course discussion forum](https://www.kaggle.com/learn/data-visualization/discussion) to chat with other learners.*"
   ]
  }
 ],
 "metadata": {
  "kernelspec": {
   "display_name": "Python 3",
   "language": "python",
   "name": "python3"
  },
  "language_info": {
   "codemirror_mode": {
    "name": "ipython",
    "version": 3
   },
   "file_extension": ".py",
   "mimetype": "text/x-python",
   "name": "python",
   "nbconvert_exporter": "python",
   "pygments_lexer": "ipython3",
   "version": "3.7.12"
  },
  "papermill": {
   "default_parameters": {},
   "duration": 14.568221,
   "end_time": "2023-02-27T20:16:32.639902",
   "environment_variables": {},
   "exception": null,
   "input_path": "__notebook__.ipynb",
   "output_path": "__notebook__.ipynb",
   "parameters": {},
   "start_time": "2023-02-27T20:16:18.071681",
   "version": "2.4.0"
  }
 },
 "nbformat": 4,
 "nbformat_minor": 5
}
