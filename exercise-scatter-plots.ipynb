{
 "cells": [
  {
   "cell_type": "markdown",
   "id": "c4bd8eb5",
   "metadata": {
    "papermill": {
     "duration": 0.008644,
     "end_time": "2023-02-27T21:00:38.045204",
     "exception": false,
     "start_time": "2023-02-27T21:00:38.036560",
     "status": "completed"
    },
    "tags": []
   },
   "source": [
    "**This notebook is an exercise in the [Data Visualization](https://www.kaggle.com/learn/data-visualization) course.  You can reference the tutorial at [this link](https://www.kaggle.com/alexisbcook/scatter-plots).**\n",
    "\n",
    "---\n"
   ]
  },
  {
   "cell_type": "markdown",
   "id": "ba808671",
   "metadata": {
    "papermill": {
     "duration": 0.007483,
     "end_time": "2023-02-27T21:00:38.060821",
     "exception": false,
     "start_time": "2023-02-27T21:00:38.053338",
     "status": "completed"
    },
    "tags": []
   },
   "source": [
    "In this exercise, you will use your new knowledge to propose a solution to a real-world scenario.  To succeed, you will need to import data into Python, answer questions using the data, and generate **scatter plots** to understand patterns in the data.\n",
    "\n",
    "## Scenario\n",
    "\n",
    "You work for a major candy producer, and your goal is to write a report that your company can use to guide the design of its next product.  Soon after starting your research, you stumble across this [very interesting dataset](https://fivethirtyeight.com/features/the-ultimate-halloween-candy-power-ranking/) containing results from a fun survey to crowdsource favorite candies.\n",
    "\n",
    "## Setup\n",
    "\n",
    "Run the next cell to import and configure the Python libraries that you need to complete the exercise."
   ]
  },
  {
   "cell_type": "code",
   "execution_count": 1,
   "id": "95374353",
   "metadata": {
    "execution": {
     "iopub.execute_input": "2023-02-27T21:00:38.078266Z",
     "iopub.status.busy": "2023-02-27T21:00:38.077878Z",
     "iopub.status.idle": "2023-02-27T21:00:39.443910Z",
     "shell.execute_reply": "2023-02-27T21:00:39.442321Z"
    },
    "papermill": {
     "duration": 1.37827,
     "end_time": "2023-02-27T21:00:39.446870",
     "exception": false,
     "start_time": "2023-02-27T21:00:38.068600",
     "status": "completed"
    },
    "tags": []
   },
   "outputs": [
    {
     "name": "stdout",
     "output_type": "stream",
     "text": [
      "Setup Complete\n"
     ]
    }
   ],
   "source": [
    "import pandas as pd\n",
    "pd.plotting.register_matplotlib_converters()\n",
    "import matplotlib.pyplot as plt\n",
    "%matplotlib inline\n",
    "import seaborn as sns\n",
    "print(\"Setup Complete\")"
   ]
  },
  {
   "cell_type": "markdown",
   "id": "6d63cfb9",
   "metadata": {
    "papermill": {
     "duration": 0.007441,
     "end_time": "2023-02-27T21:00:39.462328",
     "exception": false,
     "start_time": "2023-02-27T21:00:39.454887",
     "status": "completed"
    },
    "tags": []
   },
   "source": [
    "The questions below will give you feedback on your work. Run the following cell to set up our feedback system."
   ]
  },
  {
   "cell_type": "code",
   "execution_count": 2,
   "id": "9fff5e24",
   "metadata": {
    "execution": {
     "iopub.execute_input": "2023-02-27T21:00:39.480115Z",
     "iopub.status.busy": "2023-02-27T21:00:39.479691Z",
     "iopub.status.idle": "2023-02-27T21:00:39.554400Z",
     "shell.execute_reply": "2023-02-27T21:00:39.553565Z"
    },
    "papermill": {
     "duration": 0.086751,
     "end_time": "2023-02-27T21:00:39.556945",
     "exception": false,
     "start_time": "2023-02-27T21:00:39.470194",
     "status": "completed"
    },
    "tags": []
   },
   "outputs": [
    {
     "name": "stdout",
     "output_type": "stream",
     "text": [
      "Setup Complete\n"
     ]
    }
   ],
   "source": [
    "# Set up code checking\n",
    "import os\n",
    "if not os.path.exists(\"../input/candy.csv\"):\n",
    "    os.symlink(\"../input/data-for-datavis/candy.csv\", \"../input/candy.csv\") \n",
    "from learntools.core import binder\n",
    "binder.bind(globals())\n",
    "from learntools.data_viz_to_coder.ex4 import *\n",
    "print(\"Setup Complete\")"
   ]
  },
  {
   "cell_type": "markdown",
   "id": "7fa05665",
   "metadata": {
    "papermill": {
     "duration": 0.008183,
     "end_time": "2023-02-27T21:00:39.573833",
     "exception": false,
     "start_time": "2023-02-27T21:00:39.565650",
     "status": "completed"
    },
    "tags": []
   },
   "source": [
    "## Step 1: Load the Data\n",
    "\n",
    "Read the candy data file into `candy_data`.  Use the `\"id\"` column to label the rows."
   ]
  },
  {
   "cell_type": "code",
   "execution_count": 3,
   "id": "5919916d",
   "metadata": {
    "execution": {
     "iopub.execute_input": "2023-02-27T21:00:39.592314Z",
     "iopub.status.busy": "2023-02-27T21:00:39.591699Z",
     "iopub.status.idle": "2023-02-27T21:00:39.606301Z",
     "shell.execute_reply": "2023-02-27T21:00:39.605149Z"
    },
    "papermill": {
     "duration": 0.026476,
     "end_time": "2023-02-27T21:00:39.608470",
     "exception": false,
     "start_time": "2023-02-27T21:00:39.581994",
     "status": "completed"
    },
    "tags": []
   },
   "outputs": [
    {
     "data": {
      "application/javascript": [
       "parent.postMessage({\"jupyterEvent\": \"custom.exercise_interaction\", \"data\": {\"outcomeType\": 1, \"valueTowardsCompletion\": 0.3333333333333333, \"interactionType\": 1, \"questionType\": 1, \"questionId\": \"1_LoadData\", \"learnToolsVersion\": \"0.3.4\", \"failureMessage\": \"\", \"exceptionClass\": \"\", \"trace\": \"\"}}, \"*\")"
      ],
      "text/plain": [
       "<IPython.core.display.Javascript object>"
      ]
     },
     "metadata": {},
     "output_type": "display_data"
    },
    {
     "data": {
      "text/markdown": [
       "<span style=\"color:#33cc33\">Correct</span>"
      ],
      "text/plain": [
       "Correct"
      ]
     },
     "metadata": {},
     "output_type": "display_data"
    }
   ],
   "source": [
    "# Path of the file to read\n",
    "candy_filepath = \"../input/candy.csv\"\n",
    "\n",
    "# Fill in the line below to read the file into a variable candy_data\n",
    "candy_data = pd.read_csv(candy_filepath ,index_col = 'id')\n",
    "\n",
    "# Run the line below with no changes to check that you've loaded the data correctly\n",
    "step_1.check()"
   ]
  },
  {
   "cell_type": "code",
   "execution_count": 4,
   "id": "0cf38d72",
   "metadata": {
    "execution": {
     "iopub.execute_input": "2023-02-27T21:00:39.627319Z",
     "iopub.status.busy": "2023-02-27T21:00:39.626892Z",
     "iopub.status.idle": "2023-02-27T21:00:39.637271Z",
     "shell.execute_reply": "2023-02-27T21:00:39.635642Z"
    },
    "papermill": {
     "duration": 0.023486,
     "end_time": "2023-02-27T21:00:39.640537",
     "exception": false,
     "start_time": "2023-02-27T21:00:39.617051",
     "status": "completed"
    },
    "tags": []
   },
   "outputs": [
    {
     "data": {
      "application/javascript": [
       "parent.postMessage({\"jupyterEvent\": \"custom.exercise_interaction\", \"data\": {\"interactionType\": 3, \"questionType\": 1, \"questionId\": \"1_LoadData\", \"learnToolsVersion\": \"0.3.4\", \"valueTowardsCompletion\": 0.0, \"failureMessage\": \"\", \"exceptionClass\": \"\", \"trace\": \"\", \"outcomeType\": 4}}, \"*\")"
      ],
      "text/plain": [
       "<IPython.core.display.Javascript object>"
      ]
     },
     "metadata": {},
     "output_type": "display_data"
    },
    {
     "data": {
      "text/markdown": [
       "<span style=\"color:#33cc99\">Solution:</span> \n",
       "```python\n",
       "candy_data = pd.read_csv(candy_filepath, index_col=\"id\")\n",
       "```"
      ],
      "text/plain": [
       "Solution: \n",
       "```python\n",
       "candy_data = pd.read_csv(candy_filepath, index_col=\"id\")\n",
       "```"
      ]
     },
     "metadata": {},
     "output_type": "display_data"
    }
   ],
   "source": [
    "# Lines below will give you a hint or solution code\n",
    "#step_1.hint()\n",
    "step_1.solution()"
   ]
  },
  {
   "cell_type": "markdown",
   "id": "0742225c",
   "metadata": {
    "papermill": {
     "duration": 0.008182,
     "end_time": "2023-02-27T21:00:39.657563",
     "exception": false,
     "start_time": "2023-02-27T21:00:39.649381",
     "status": "completed"
    },
    "tags": []
   },
   "source": [
    "## Step 2: Review the data\n",
    "\n",
    "Use a Python command to print the first five rows of the data."
   ]
  },
  {
   "cell_type": "code",
   "execution_count": 5,
   "id": "54d40f31",
   "metadata": {
    "execution": {
     "iopub.execute_input": "2023-02-27T21:00:39.675341Z",
     "iopub.status.busy": "2023-02-27T21:00:39.674904Z",
     "iopub.status.idle": "2023-02-27T21:00:39.703837Z",
     "shell.execute_reply": "2023-02-27T21:00:39.702910Z"
    },
    "papermill": {
     "duration": 0.040041,
     "end_time": "2023-02-27T21:00:39.705722",
     "exception": false,
     "start_time": "2023-02-27T21:00:39.665681",
     "status": "completed"
    },
    "tags": []
   },
   "outputs": [
    {
     "data": {
      "text/html": [
       "<div>\n",
       "<style scoped>\n",
       "    .dataframe tbody tr th:only-of-type {\n",
       "        vertical-align: middle;\n",
       "    }\n",
       "\n",
       "    .dataframe tbody tr th {\n",
       "        vertical-align: top;\n",
       "    }\n",
       "\n",
       "    .dataframe thead th {\n",
       "        text-align: right;\n",
       "    }\n",
       "</style>\n",
       "<table border=\"1\" class=\"dataframe\">\n",
       "  <thead>\n",
       "    <tr style=\"text-align: right;\">\n",
       "      <th></th>\n",
       "      <th>competitorname</th>\n",
       "      <th>chocolate</th>\n",
       "      <th>fruity</th>\n",
       "      <th>caramel</th>\n",
       "      <th>peanutyalmondy</th>\n",
       "      <th>nougat</th>\n",
       "      <th>crispedricewafer</th>\n",
       "      <th>hard</th>\n",
       "      <th>bar</th>\n",
       "      <th>pluribus</th>\n",
       "      <th>sugarpercent</th>\n",
       "      <th>pricepercent</th>\n",
       "      <th>winpercent</th>\n",
       "    </tr>\n",
       "    <tr>\n",
       "      <th>id</th>\n",
       "      <th></th>\n",
       "      <th></th>\n",
       "      <th></th>\n",
       "      <th></th>\n",
       "      <th></th>\n",
       "      <th></th>\n",
       "      <th></th>\n",
       "      <th></th>\n",
       "      <th></th>\n",
       "      <th></th>\n",
       "      <th></th>\n",
       "      <th></th>\n",
       "      <th></th>\n",
       "    </tr>\n",
       "  </thead>\n",
       "  <tbody>\n",
       "    <tr>\n",
       "      <th>0</th>\n",
       "      <td>100 Grand</td>\n",
       "      <td>Yes</td>\n",
       "      <td>No</td>\n",
       "      <td>Yes</td>\n",
       "      <td>No</td>\n",
       "      <td>No</td>\n",
       "      <td>Yes</td>\n",
       "      <td>No</td>\n",
       "      <td>Yes</td>\n",
       "      <td>No</td>\n",
       "      <td>0.732</td>\n",
       "      <td>0.860</td>\n",
       "      <td>66.971725</td>\n",
       "    </tr>\n",
       "    <tr>\n",
       "      <th>1</th>\n",
       "      <td>3 Musketeers</td>\n",
       "      <td>Yes</td>\n",
       "      <td>No</td>\n",
       "      <td>No</td>\n",
       "      <td>No</td>\n",
       "      <td>Yes</td>\n",
       "      <td>No</td>\n",
       "      <td>No</td>\n",
       "      <td>Yes</td>\n",
       "      <td>No</td>\n",
       "      <td>0.604</td>\n",
       "      <td>0.511</td>\n",
       "      <td>67.602936</td>\n",
       "    </tr>\n",
       "    <tr>\n",
       "      <th>2</th>\n",
       "      <td>Air Heads</td>\n",
       "      <td>No</td>\n",
       "      <td>Yes</td>\n",
       "      <td>No</td>\n",
       "      <td>No</td>\n",
       "      <td>No</td>\n",
       "      <td>No</td>\n",
       "      <td>No</td>\n",
       "      <td>No</td>\n",
       "      <td>No</td>\n",
       "      <td>0.906</td>\n",
       "      <td>0.511</td>\n",
       "      <td>52.341465</td>\n",
       "    </tr>\n",
       "    <tr>\n",
       "      <th>3</th>\n",
       "      <td>Almond Joy</td>\n",
       "      <td>Yes</td>\n",
       "      <td>No</td>\n",
       "      <td>No</td>\n",
       "      <td>Yes</td>\n",
       "      <td>No</td>\n",
       "      <td>No</td>\n",
       "      <td>No</td>\n",
       "      <td>Yes</td>\n",
       "      <td>No</td>\n",
       "      <td>0.465</td>\n",
       "      <td>0.767</td>\n",
       "      <td>50.347546</td>\n",
       "    </tr>\n",
       "    <tr>\n",
       "      <th>4</th>\n",
       "      <td>Baby Ruth</td>\n",
       "      <td>Yes</td>\n",
       "      <td>No</td>\n",
       "      <td>Yes</td>\n",
       "      <td>Yes</td>\n",
       "      <td>Yes</td>\n",
       "      <td>No</td>\n",
       "      <td>No</td>\n",
       "      <td>Yes</td>\n",
       "      <td>No</td>\n",
       "      <td>0.604</td>\n",
       "      <td>0.767</td>\n",
       "      <td>56.914547</td>\n",
       "    </tr>\n",
       "  </tbody>\n",
       "</table>\n",
       "</div>"
      ],
      "text/plain": [
       "   competitorname chocolate fruity caramel peanutyalmondy nougat  \\\n",
       "id                                                                 \n",
       "0       100 Grand       Yes     No     Yes             No     No   \n",
       "1    3 Musketeers       Yes     No      No             No    Yes   \n",
       "2       Air Heads        No    Yes      No             No     No   \n",
       "3      Almond Joy       Yes     No      No            Yes     No   \n",
       "4       Baby Ruth       Yes     No     Yes            Yes    Yes   \n",
       "\n",
       "   crispedricewafer hard  bar pluribus  sugarpercent  pricepercent  winpercent  \n",
       "id                                                                              \n",
       "0               Yes   No  Yes       No         0.732         0.860   66.971725  \n",
       "1                No   No  Yes       No         0.604         0.511   67.602936  \n",
       "2                No   No   No       No         0.906         0.511   52.341465  \n",
       "3                No   No  Yes       No         0.465         0.767   50.347546  \n",
       "4                No   No  Yes       No         0.604         0.767   56.914547  "
      ]
     },
     "execution_count": 5,
     "metadata": {},
     "output_type": "execute_result"
    }
   ],
   "source": [
    "# Print the first five rows of the data\n",
    "candy_data.head(5)# Your code here"
   ]
  },
  {
   "cell_type": "markdown",
   "id": "2fceb5ff",
   "metadata": {
    "papermill": {
     "duration": 0.009053,
     "end_time": "2023-02-27T21:00:39.723805",
     "exception": false,
     "start_time": "2023-02-27T21:00:39.714752",
     "status": "completed"
    },
    "tags": []
   },
   "source": [
    "The dataset contains 83 rows, where each corresponds to a different candy bar.  There are 13 columns:\n",
    "- `'competitorname'` contains the name of the candy bar. \n",
    "- the next **9** columns (from `'chocolate'` to `'pluribus'`) describe the candy.  For instance, rows with chocolate candies have `\"Yes\"` in the `'chocolate'` column (and candies without chocolate have `\"No\"` in the same column).\n",
    "- `'sugarpercent'` provides some indication of the amount of sugar, where higher values signify higher sugar content.\n",
    "- `'pricepercent'` shows the price per unit, relative to the other candies in the dataset.\n",
    "- `'winpercent'` is calculated from the survey results; higher values indicate that the candy was more popular with survey respondents.\n",
    "\n",
    "Use the first five rows of the data to answer the questions below."
   ]
  },
  {
   "cell_type": "code",
   "execution_count": 6,
   "id": "86938c58",
   "metadata": {
    "execution": {
     "iopub.execute_input": "2023-02-27T21:00:39.744290Z",
     "iopub.status.busy": "2023-02-27T21:00:39.743543Z",
     "iopub.status.idle": "2023-02-27T21:00:39.751883Z",
     "shell.execute_reply": "2023-02-27T21:00:39.750805Z"
    },
    "papermill": {
     "duration": 0.021725,
     "end_time": "2023-02-27T21:00:39.754861",
     "exception": false,
     "start_time": "2023-02-27T21:00:39.733136",
     "status": "completed"
    },
    "tags": []
   },
   "outputs": [
    {
     "data": {
      "application/javascript": [
       "parent.postMessage({\"jupyterEvent\": \"custom.exercise_interaction\", \"data\": {\"outcomeType\": 1, \"valueTowardsCompletion\": 0.3333333333333333, \"interactionType\": 1, \"questionType\": 1, \"questionId\": \"2_ReviewData\", \"learnToolsVersion\": \"0.3.4\", \"failureMessage\": \"\", \"exceptionClass\": \"\", \"trace\": \"\"}}, \"*\")"
      ],
      "text/plain": [
       "<IPython.core.display.Javascript object>"
      ]
     },
     "metadata": {},
     "output_type": "display_data"
    },
    {
     "data": {
      "text/markdown": [
       "<span style=\"color:#33cc33\">Correct</span>"
      ],
      "text/plain": [
       "Correct"
      ]
     },
     "metadata": {},
     "output_type": "display_data"
    }
   ],
   "source": [
    "# Fill in the line below: Which candy was more popular with survey respondents:\n",
    "# '3 Musketeers' or 'Almond Joy'?  (Please enclose your answer in single quotes.)\n",
    "more_popular = '3 Musketeers'\n",
    "\n",
    "# Fill in the line below: Which candy has higher sugar content: 'Air Heads'\n",
    "# or 'Baby Ruth'? (Please enclose your answer in single quotes.)\n",
    "more_sugar = 'Air Heads'\n",
    "\n",
    "# Check your answers\n",
    "step_2.check()"
   ]
  },
  {
   "cell_type": "code",
   "execution_count": 7,
   "id": "1e367722",
   "metadata": {
    "execution": {
     "iopub.execute_input": "2023-02-27T21:00:39.774712Z",
     "iopub.status.busy": "2023-02-27T21:00:39.774308Z",
     "iopub.status.idle": "2023-02-27T21:00:39.779518Z",
     "shell.execute_reply": "2023-02-27T21:00:39.777712Z"
    },
    "papermill": {
     "duration": 0.017992,
     "end_time": "2023-02-27T21:00:39.782250",
     "exception": false,
     "start_time": "2023-02-27T21:00:39.764258",
     "status": "completed"
    },
    "tags": []
   },
   "outputs": [],
   "source": [
    "# Lines below will give you a hint or solution code\n",
    "#step_2.hint()\n",
    "#step_2.solution()"
   ]
  },
  {
   "cell_type": "markdown",
   "id": "bcc88db8",
   "metadata": {
    "papermill": {
     "duration": 0.008745,
     "end_time": "2023-02-27T21:00:39.800213",
     "exception": false,
     "start_time": "2023-02-27T21:00:39.791468",
     "status": "completed"
    },
    "tags": []
   },
   "source": [
    "## Step 3: The role of sugar\n",
    "\n",
    "Do people tend to prefer candies with higher sugar content?  \n",
    "\n",
    "#### Part A\n",
    "\n",
    "Create a scatter plot that shows the relationship between `'sugarpercent'` (on the horizontal x-axis) and `'winpercent'` (on the vertical y-axis).  _Don't add a regression line just yet -- you'll do that in the next step!_"
   ]
  },
  {
   "cell_type": "code",
   "execution_count": 8,
   "id": "c79beeb2",
   "metadata": {
    "execution": {
     "iopub.execute_input": "2023-02-27T21:00:39.821168Z",
     "iopub.status.busy": "2023-02-27T21:00:39.820722Z",
     "iopub.status.idle": "2023-02-27T21:00:40.065849Z",
     "shell.execute_reply": "2023-02-27T21:00:40.063577Z"
    },
    "papermill": {
     "duration": 0.258982,
     "end_time": "2023-02-27T21:00:40.068713",
     "exception": false,
     "start_time": "2023-02-27T21:00:39.809731",
     "status": "completed"
    },
    "tags": []
   },
   "outputs": [
    {
     "data": {
      "application/javascript": [
       "parent.postMessage({\"jupyterEvent\": \"custom.exercise_interaction\", \"data\": {\"outcomeType\": 1, \"valueTowardsCompletion\": 0.3333333333333333, \"interactionType\": 1, \"questionType\": 2, \"questionId\": \"3.1_PlotBlueScatter\", \"learnToolsVersion\": \"0.3.4\", \"failureMessage\": \"\", \"exceptionClass\": \"\", \"trace\": \"\"}}, \"*\")"
      ],
      "text/plain": [
       "<IPython.core.display.Javascript object>"
      ]
     },
     "metadata": {},
     "output_type": "display_data"
    },
    {
     "data": {
      "text/markdown": [
       "<span style=\"color:#33cc33\">Correct</span>"
      ],
      "text/plain": [
       "Correct"
      ]
     },
     "metadata": {},
     "output_type": "display_data"
    },
    {
     "data": {
      "image/png": "[encoded data removed]",
      "text/plain": [
       "<Figure size 640x480 with 1 Axes>"
      ]
     },
     "metadata": {},
     "output_type": "display_data"
    }
   ],
   "source": [
    "# Scatter plot showing the relationship between 'sugarpercent' and 'winpercent'\n",
    "plt.figsize=(16,5) # Your code here\n",
    "sns.scatterplot(x=candy_data['sugarpercent'],y=candy_data['winpercent'])\n",
    "\n",
    "# Check your answer\n",
    "step_3.a.check()"
   ]
  },
  {
   "cell_type": "code",
   "execution_count": 9,
   "id": "7b34f27e",
   "metadata": {
    "execution": {
     "iopub.execute_input": "2023-02-27T21:00:40.090033Z",
     "iopub.status.busy": "2023-02-27T21:00:40.089688Z",
     "iopub.status.idle": "2023-02-27T21:00:40.094879Z",
     "shell.execute_reply": "2023-02-27T21:00:40.093288Z"
    },
    "papermill": {
     "duration": 0.018486,
     "end_time": "2023-02-27T21:00:40.097350",
     "exception": false,
     "start_time": "2023-02-27T21:00:40.078864",
     "status": "completed"
    },
    "tags": []
   },
   "outputs": [],
   "source": [
    "# Lines below will give you a hint or solution code\n",
    "#step_3.a.hint()\n",
    "#step_3.a.solution_plot()"
   ]
  },
  {
   "cell_type": "markdown",
   "id": "fbcb95ef",
   "metadata": {
    "papermill": {
     "duration": 0.009024,
     "end_time": "2023-02-27T21:00:40.116322",
     "exception": false,
     "start_time": "2023-02-27T21:00:40.107298",
     "status": "completed"
    },
    "tags": []
   },
   "source": [
    "#### Part B\n",
    "\n",
    "Does the scatter plot show a **strong** correlation between the two variables?  If so, are candies with more sugar relatively more or less popular with the survey respondents?"
   ]
  },
  {
   "cell_type": "code",
   "execution_count": 10,
   "id": "9cfd4053",
   "metadata": {
    "execution": {
     "iopub.execute_input": "2023-02-27T21:00:40.137875Z",
     "iopub.status.busy": "2023-02-27T21:00:40.137490Z",
     "iopub.status.idle": "2023-02-27T21:00:40.143517Z",
     "shell.execute_reply": "2023-02-27T21:00:40.141474Z"
    },
    "papermill": {
     "duration": 0.020628,
     "end_time": "2023-02-27T21:00:40.146570",
     "exception": false,
     "start_time": "2023-02-27T21:00:40.125942",
     "status": "completed"
    },
    "tags": []
   },
   "outputs": [],
   "source": [
    "#step_3.b.hint()"
   ]
  },
  {
   "cell_type": "code",
   "execution_count": 11,
   "id": "53729c3b",
   "metadata": {
    "execution": {
     "iopub.execute_input": "2023-02-27T21:00:40.167551Z",
     "iopub.status.busy": "2023-02-27T21:00:40.166917Z",
     "iopub.status.idle": "2023-02-27T21:00:40.175751Z",
     "shell.execute_reply": "2023-02-27T21:00:40.174713Z"
    },
    "papermill": {
     "duration": 0.02149,
     "end_time": "2023-02-27T21:00:40.177894",
     "exception": false,
     "start_time": "2023-02-27T21:00:40.156404",
     "status": "completed"
    },
    "tags": []
   },
   "outputs": [
    {
     "data": {
      "application/javascript": [
       "parent.postMessage({\"jupyterEvent\": \"custom.exercise_interaction\", \"data\": {\"interactionType\": 3, \"questionType\": 4, \"questionId\": \"3.2_ThinkBlueScatter\", \"learnToolsVersion\": \"0.3.4\", \"valueTowardsCompletion\": 0.0, \"failureMessage\": \"\", \"exceptionClass\": \"\", \"trace\": \"\", \"outcomeType\": 4}}, \"*\")"
      ],
      "text/plain": [
       "<IPython.core.display.Javascript object>"
      ]
     },
     "metadata": {},
     "output_type": "display_data"
    },
    {
     "data": {
      "text/markdown": [
       "<span style=\"color:#33cc99\">Solution:</span> The scatter plot does not show a strong correlation between the two variables. Since there is no clear relationship between the two variables, this tells us that sugar content does not play a strong role in candy popularity."
      ],
      "text/plain": [
       "Solution: The scatter plot does not show a strong correlation between the two variables. Since there is no clear relationship between the two variables, this tells us that sugar content does not play a strong role in candy popularity."
      ]
     },
     "metadata": {},
     "output_type": "display_data"
    }
   ],
   "source": [
    "# Check your answer (Run this code cell to receive credit!)\n",
    "step_3.b.solution()"
   ]
  },
  {
   "cell_type": "markdown",
   "id": "88209db7",
   "metadata": {
    "papermill": {
     "duration": 0.009356,
     "end_time": "2023-02-27T21:00:40.196961",
     "exception": false,
     "start_time": "2023-02-27T21:00:40.187605",
     "status": "completed"
    },
    "tags": []
   },
   "source": [
    "## Step 4: Take a closer look\n",
    "\n",
    "#### Part A\n",
    "\n",
    "Create the same scatter plot you created in **Step 3**, but now with a regression line!"
   ]
  },
  {
   "cell_type": "code",
   "execution_count": 12,
   "id": "801f159f",
   "metadata": {
    "execution": {
     "iopub.execute_input": "2023-02-27T21:00:40.218296Z",
     "iopub.status.busy": "2023-02-27T21:00:40.217819Z",
     "iopub.status.idle": "2023-02-27T21:00:40.501935Z",
     "shell.execute_reply": "2023-02-27T21:00:40.500233Z"
    },
    "papermill": {
     "duration": 0.298293,
     "end_time": "2023-02-27T21:00:40.504940",
     "exception": false,
     "start_time": "2023-02-27T21:00:40.206647",
     "status": "completed"
    },
    "tags": []
   },
   "outputs": [
    {
     "data": {
      "application/javascript": [
       "parent.postMessage({\"jupyterEvent\": \"custom.exercise_interaction\", \"data\": {\"outcomeType\": 1, \"valueTowardsCompletion\": 0.3333333333333333, \"interactionType\": 1, \"questionType\": 2, \"questionId\": \"4.1_PlotBlueReg\", \"learnToolsVersion\": \"0.3.4\", \"failureMessage\": \"\", \"exceptionClass\": \"\", \"trace\": \"\"}}, \"*\")"
      ],
      "text/plain": [
       "<IPython.core.display.Javascript object>"
      ]
     },
     "metadata": {},
     "output_type": "display_data"
    },
    {
     "data": {
      "text/markdown": [
       "<span style=\"color:#33cc33\">Correct</span>"
      ],
      "text/plain": [
       "Correct"
      ]
     },
     "metadata": {},
     "output_type": "display_data"
    },
    {
     "data": {
      "image/png": "[encoded data removed]",
      "text/plain": [
       "<Figure size 640x480 with 1 Axes>"
      ]
     },
     "metadata": {},
     "output_type": "display_data"
    }
   ],
   "source": [
    "# Scatter plot w/ regression line showing the relationship between 'sugarpercent' and 'winpercent'\n",
    "sns.regplot(x = candy_data['sugarpercent'] , y = candy_data['winpercent']) # Your code here\n",
    "\n",
    "# Check your answer\n",
    "step_4.a.check()"
   ]
  },
  {
   "cell_type": "code",
   "execution_count": 13,
   "id": "cdeffb50",
   "metadata": {
    "execution": {
     "iopub.execute_input": "2023-02-27T21:00:40.528512Z",
     "iopub.status.busy": "2023-02-27T21:00:40.527867Z",
     "iopub.status.idle": "2023-02-27T21:00:40.533779Z",
     "shell.execute_reply": "2023-02-27T21:00:40.532364Z"
    },
    "papermill": {
     "duration": 0.020445,
     "end_time": "2023-02-27T21:00:40.536404",
     "exception": false,
     "start_time": "2023-02-27T21:00:40.515959",
     "status": "completed"
    },
    "tags": []
   },
   "outputs": [],
   "source": [
    "# Lines below will give you a hint or solution code\n",
    "#step_4.a.hint()\n",
    "#step_4.a.solution_plot()"
   ]
  },
  {
   "cell_type": "markdown",
   "id": "eac17757",
   "metadata": {
    "papermill": {
     "duration": 0.010036,
     "end_time": "2023-02-27T21:00:40.556757",
     "exception": false,
     "start_time": "2023-02-27T21:00:40.546721",
     "status": "completed"
    },
    "tags": []
   },
   "source": [
    "#### Part B\n",
    "\n",
    "According to the plot above, is there a **slight** correlation between `'winpercent'` and `'sugarpercent'`?  What does this tell you about the candy that people tend to prefer?"
   ]
  },
  {
   "cell_type": "code",
   "execution_count": 14,
   "id": "83652dfb",
   "metadata": {
    "execution": {
     "iopub.execute_input": "2023-02-27T21:00:40.579431Z",
     "iopub.status.busy": "2023-02-27T21:00:40.578979Z",
     "iopub.status.idle": "2023-02-27T21:00:40.584160Z",
     "shell.execute_reply": "2023-02-27T21:00:40.582947Z"
    },
    "papermill": {
     "duration": 0.019492,
     "end_time": "2023-02-27T21:00:40.586949",
     "exception": false,
     "start_time": "2023-02-27T21:00:40.567457",
     "status": "completed"
    },
    "tags": []
   },
   "outputs": [],
   "source": [
    "#step_4.b.hint()"
   ]
  },
  {
   "cell_type": "code",
   "execution_count": 15,
   "id": "437d7b7c",
   "metadata": {
    "execution": {
     "iopub.execute_input": "2023-02-27T21:00:40.611687Z",
     "iopub.status.busy": "2023-02-27T21:00:40.611257Z",
     "iopub.status.idle": "2023-02-27T21:00:40.620071Z",
     "shell.execute_reply": "2023-02-27T21:00:40.618668Z"
    },
    "papermill": {
     "duration": 0.024732,
     "end_time": "2023-02-27T21:00:40.622770",
     "exception": false,
     "start_time": "2023-02-27T21:00:40.598038",
     "status": "completed"
    },
    "tags": []
   },
   "outputs": [
    {
     "data": {
      "application/javascript": [
       "parent.postMessage({\"jupyterEvent\": \"custom.exercise_interaction\", \"data\": {\"interactionType\": 3, \"questionType\": 4, \"questionId\": \"4.2_ThinkBlueReg\", \"learnToolsVersion\": \"0.3.4\", \"valueTowardsCompletion\": 0.0, \"failureMessage\": \"\", \"exceptionClass\": \"\", \"trace\": \"\", \"outcomeType\": 4}}, \"*\")"
      ],
      "text/plain": [
       "<IPython.core.display.Javascript object>"
      ]
     },
     "metadata": {},
     "output_type": "display_data"
    },
    {
     "data": {
      "text/markdown": [
       "<span style=\"color:#33cc99\">Solution:</span> Since the regression line has a slightly positive slope, this tells us that there is a slightly positive correlation between `'winpercent'` and `'sugarpercent'`. Thus, people have a slight preference for candies containing relatively more sugar."
      ],
      "text/plain": [
       "Solution: Since the regression line has a slightly positive slope, this tells us that there is a slightly positive correlation between `'winpercent'` and `'sugarpercent'`. Thus, people have a slight preference for candies containing relatively more sugar."
      ]
     },
     "metadata": {},
     "output_type": "display_data"
    }
   ],
   "source": [
    "# Check your answer (Run this code cell to receive credit!)\n",
    "step_4.b.solution()"
   ]
  },
  {
   "cell_type": "markdown",
   "id": "482a7830",
   "metadata": {
    "papermill": {
     "duration": 0.012039,
     "end_time": "2023-02-27T21:00:40.646179",
     "exception": false,
     "start_time": "2023-02-27T21:00:40.634140",
     "status": "completed"
    },
    "tags": []
   },
   "source": [
    "## Step 5: Chocolate!\n",
    "\n",
    "In the code cell below, create a scatter plot to show the relationship between `'pricepercent'` (on the horizontal x-axis) and `'winpercent'` (on the vertical y-axis). Use the `'chocolate'` column to color-code the points.  _Don't add any regression lines just yet -- you'll do that in the next step!_"
   ]
  },
  {
   "cell_type": "code",
   "execution_count": 16,
   "id": "0c117289",
   "metadata": {
    "execution": {
     "iopub.execute_input": "2023-02-27T21:00:40.670966Z",
     "iopub.status.busy": "2023-02-27T21:00:40.670560Z",
     "iopub.status.idle": "2023-02-27T21:00:40.930156Z",
     "shell.execute_reply": "2023-02-27T21:00:40.929142Z"
    },
    "papermill": {
     "duration": 0.275152,
     "end_time": "2023-02-27T21:00:40.933599",
     "exception": false,
     "start_time": "2023-02-27T21:00:40.658447",
     "status": "completed"
    },
    "tags": []
   },
   "outputs": [
    {
     "data": {
      "application/javascript": [
       "parent.postMessage({\"jupyterEvent\": \"custom.exercise_interaction\", \"data\": {\"outcomeType\": 1, \"valueTowardsCompletion\": 0.3333333333333333, \"interactionType\": 1, \"questionType\": 2, \"questionId\": \"5_ColorScatter\", \"learnToolsVersion\": \"0.3.4\", \"failureMessage\": \"\", \"exceptionClass\": \"\", \"trace\": \"\"}}, \"*\")"
      ],
      "text/plain": [
       "<IPython.core.display.Javascript object>"
      ]
     },
     "metadata": {},
     "output_type": "display_data"
    },
    {
     "data": {
      "text/markdown": [
       "<span style=\"color:#33cc33\">Correct</span>"
      ],
      "text/plain": [
       "Correct"
      ]
     },
     "metadata": {},
     "output_type": "display_data"
    },
    {
     "data": {
      "image/png": "[encoded data removed]",
      "text/plain": [
       "<Figure size 640x480 with 1 Axes>"
      ]
     },
     "metadata": {},
     "output_type": "display_data"
    }
   ],
   "source": [
    "# Scatter plot showing the relationship between 'pricepercent', 'winpercent', and 'chocolate'\n",
    "plt.figsize=(16,5) # Your code here\n",
    "sns.scatterplot(x = candy_data['pricepercent'] , y = candy_data['winpercent'] , hue = candy_data['chocolate'])\n",
    "\n",
    "# Check your answer\n",
    "step_5.check()"
   ]
  },
  {
   "cell_type": "code",
   "execution_count": 17,
   "id": "e98b0a1e",
   "metadata": {
    "execution": {
     "iopub.execute_input": "2023-02-27T21:00:40.963199Z",
     "iopub.status.busy": "2023-02-27T21:00:40.962052Z",
     "iopub.status.idle": "2023-02-27T21:00:40.966791Z",
     "shell.execute_reply": "2023-02-27T21:00:40.965999Z"
    },
    "papermill": {
     "duration": 0.02252,
     "end_time": "2023-02-27T21:00:40.968920",
     "exception": false,
     "start_time": "2023-02-27T21:00:40.946400",
     "status": "completed"
    },
    "tags": []
   },
   "outputs": [],
   "source": [
    "# Lines below will give you a hint or solution code\n",
    "#step_5.hint()\n",
    "#step_5.solution_plot()"
   ]
  },
  {
   "cell_type": "markdown",
   "id": "6e77e343",
   "metadata": {
    "papermill": {
     "duration": 0.010719,
     "end_time": "2023-02-27T21:00:40.991666",
     "exception": false,
     "start_time": "2023-02-27T21:00:40.980947",
     "status": "completed"
    },
    "tags": []
   },
   "source": [
    "Can you see any interesting patterns in the scatter plot?  We'll investigate this plot further  by adding regression lines in the next step!\n",
    "\n",
    "## Step 6: Investigate chocolate\n",
    "\n",
    "#### Part A\n",
    "\n",
    "Create the same scatter plot you created in **Step 5**, but now with two regression lines, corresponding to (1) chocolate candies and (2) candies without chocolate."
   ]
  },
  {
   "cell_type": "code",
   "execution_count": 18,
   "id": "f9716ff7",
   "metadata": {
    "execution": {
     "iopub.execute_input": "2023-02-27T21:00:41.016955Z",
     "iopub.status.busy": "2023-02-27T21:00:41.015888Z",
     "iopub.status.idle": "2023-02-27T21:00:41.539518Z",
     "shell.execute_reply": "2023-02-27T21:00:41.538665Z"
    },
    "papermill": {
     "duration": 0.538641,
     "end_time": "2023-02-27T21:00:41.541465",
     "exception": false,
     "start_time": "2023-02-27T21:00:41.002824",
     "status": "completed"
    },
    "tags": []
   },
   "outputs": [
    {
     "data": {
      "application/javascript": [
       "parent.postMessage({\"jupyterEvent\": \"custom.exercise_interaction\", \"data\": {\"outcomeType\": 1, \"valueTowardsCompletion\": 0.3333333333333333, \"interactionType\": 1, \"questionType\": 2, \"questionId\": \"6.1_PlotColorReg\", \"learnToolsVersion\": \"0.3.4\", \"failureMessage\": \"\", \"exceptionClass\": \"\", \"trace\": \"\"}}, \"*\")"
      ],
      "text/plain": [
       "<IPython.core.display.Javascript object>"
      ]
     },
     "metadata": {},
     "output_type": "display_data"
    },
    {
     "data": {
      "text/markdown": [
       "<span style=\"color:#33cc33\">Correct</span>"
      ],
      "text/plain": [
       "Correct"
      ]
     },
     "metadata": {},
     "output_type": "display_data"
    },
    {
     "data": {
      "image/png": "[encoded data removed]",
      "text/plain": [
       "<Figure size 578.611x500 with 1 Axes>"
      ]
     },
     "metadata": {},
     "output_type": "display_data"
    }
   ],
   "source": [
    "# Color-coded scatter plot w/ regression lines\n",
    "sns.lmplot(x = 'pricepercent' , y = 'winpercent' , hue = 'chocolate' , data = candy_data) # Your code here\n",
    "\n",
    "# Check your answer\n",
    "step_6.a.check()"
   ]
  },
  {
   "cell_type": "code",
   "execution_count": 19,
   "id": "6f6b66d8",
   "metadata": {
    "execution": {
     "iopub.execute_input": "2023-02-27T21:00:41.568785Z",
     "iopub.status.busy": "2023-02-27T21:00:41.567900Z",
     "iopub.status.idle": "2023-02-27T21:00:41.572475Z",
     "shell.execute_reply": "2023-02-27T21:00:41.571038Z"
    },
    "papermill": {
     "duration": 0.021431,
     "end_time": "2023-02-27T21:00:41.575290",
     "exception": false,
     "start_time": "2023-02-27T21:00:41.553859",
     "status": "completed"
    },
    "tags": []
   },
   "outputs": [],
   "source": [
    "# Lines below will give you a hint or solution code\n",
    "#step_6.a.hint()\n",
    "#step_6.a.solution_plot()"
   ]
  },
  {
   "cell_type": "markdown",
   "id": "59638f52",
   "metadata": {
    "papermill": {
     "duration": 0.012572,
     "end_time": "2023-02-27T21:00:41.599967",
     "exception": false,
     "start_time": "2023-02-27T21:00:41.587395",
     "status": "completed"
    },
    "tags": []
   },
   "source": [
    "#### Part B\n",
    "\n",
    "Using the regression lines, what conclusions can you draw about the effects of chocolate and price on candy popularity?"
   ]
  },
  {
   "cell_type": "code",
   "execution_count": 20,
   "id": "3f9e91fb",
   "metadata": {
    "execution": {
     "iopub.execute_input": "2023-02-27T21:00:41.626251Z",
     "iopub.status.busy": "2023-02-27T21:00:41.625559Z",
     "iopub.status.idle": "2023-02-27T21:00:41.630780Z",
     "shell.execute_reply": "2023-02-27T21:00:41.629332Z"
    },
    "papermill": {
     "duration": 0.020979,
     "end_time": "2023-02-27T21:00:41.633241",
     "exception": false,
     "start_time": "2023-02-27T21:00:41.612262",
     "status": "completed"
    },
    "tags": []
   },
   "outputs": [],
   "source": [
    "#step_6.b.hint()"
   ]
  },
  {
   "cell_type": "code",
   "execution_count": 21,
   "id": "1c8d9a84",
   "metadata": {
    "execution": {
     "iopub.execute_input": "2023-02-27T21:00:41.660676Z",
     "iopub.status.busy": "2023-02-27T21:00:41.660288Z",
     "iopub.status.idle": "2023-02-27T21:00:41.670148Z",
     "shell.execute_reply": "2023-02-27T21:00:41.668141Z"
    },
    "papermill": {
     "duration": 0.027799,
     "end_time": "2023-02-27T21:00:41.673117",
     "exception": false,
     "start_time": "2023-02-27T21:00:41.645318",
     "status": "completed"
    },
    "tags": []
   },
   "outputs": [
    {
     "data": {
      "application/javascript": [
       "parent.postMessage({\"jupyterEvent\": \"custom.exercise_interaction\", \"data\": {\"interactionType\": 3, \"questionType\": 4, \"questionId\": \"6.2_ThinkColorReg\", \"learnToolsVersion\": \"0.3.4\", \"valueTowardsCompletion\": 0.0, \"failureMessage\": \"\", \"exceptionClass\": \"\", \"trace\": \"\", \"outcomeType\": 4}}, \"*\")"
      ],
      "text/plain": [
       "<IPython.core.display.Javascript object>"
      ]
     },
     "metadata": {},
     "output_type": "display_data"
    },
    {
     "data": {
      "text/markdown": [
       "<span style=\"color:#33cc99\">Solution:</span> We'll begin with the regression line for chocolate candies. Since this line has a slightly positive slope, we can say that more expensive chocolate candies tend to be more popular (than relatively cheaper chocolate candies).  Likewise, since the regression line for candies without chocolate has a negative slope, we can say that if candies don't contain chocolate, they tend to be more popular when they are cheaper.  One important note, however, is that the dataset is quite small -- so we shouldn't invest too much trust in these patterns!  To inspire more confidence in the results, we should add more candies to the dataset."
      ],
      "text/plain": [
       "Solution: We'll begin with the regression line for chocolate candies. Since this line has a slightly positive slope, we can say that more expensive chocolate candies tend to be more popular (than relatively cheaper chocolate candies).  Likewise, since the regression line for candies without chocolate has a negative slope, we can say that if candies don't contain chocolate, they tend to be more popular when they are cheaper.  One important note, however, is that the dataset is quite small -- so we shouldn't invest too much trust in these patterns!  To inspire more confidence in the results, we should add more candies to the dataset."
      ]
     },
     "metadata": {},
     "output_type": "display_data"
    }
   ],
   "source": [
    "# Check your answer (Run this code cell to receive credit!)\n",
    "step_6.b.solution()"
   ]
  },
  {
   "cell_type": "markdown",
   "id": "88dc83d6",
   "metadata": {
    "papermill": {
     "duration": 0.011908,
     "end_time": "2023-02-27T21:00:41.697487",
     "exception": false,
     "start_time": "2023-02-27T21:00:41.685579",
     "status": "completed"
    },
    "tags": []
   },
   "source": [
    "## Step 7: Everybody loves chocolate.\n",
    "\n",
    "#### Part A\n",
    "\n",
    "Create a categorical scatter plot to highlight the relationship between `'chocolate'` and `'winpercent'`.  Put `'chocolate'` on the (horizontal) x-axis, and `'winpercent'` on the (vertical) y-axis."
   ]
  },
  {
   "cell_type": "code",
   "execution_count": 22,
   "id": "b7819374",
   "metadata": {
    "execution": {
     "iopub.execute_input": "2023-02-27T21:00:41.724014Z",
     "iopub.status.busy": "2023-02-27T21:00:41.723654Z",
     "iopub.status.idle": "2023-02-27T21:00:41.962108Z",
     "shell.execute_reply": "2023-02-27T21:00:41.961308Z"
    },
    "papermill": {
     "duration": 0.254649,
     "end_time": "2023-02-27T21:00:41.964480",
     "exception": false,
     "start_time": "2023-02-27T21:00:41.709831",
     "status": "completed"
    },
    "tags": []
   },
   "outputs": [
    {
     "data": {
      "application/javascript": [
       "parent.postMessage({\"jupyterEvent\": \"custom.exercise_interaction\", \"data\": {\"outcomeType\": 1, \"valueTowardsCompletion\": 0.3333333333333333, \"interactionType\": 1, \"questionType\": 2, \"questionId\": \"7.1_PlotSwarm\", \"learnToolsVersion\": \"0.3.4\", \"failureMessage\": \"\", \"exceptionClass\": \"\", \"trace\": \"\"}}, \"*\")"
      ],
      "text/plain": [
       "<IPython.core.display.Javascript object>"
      ]
     },
     "metadata": {},
     "output_type": "display_data"
    },
    {
     "data": {
      "text/markdown": [
       "<span style=\"color:#33cc33\">Correct</span>"
      ],
      "text/plain": [
       "Correct"
      ]
     },
     "metadata": {},
     "output_type": "display_data"
    },
    {
     "data": {
      "image/png": "[encoded data removed]",
      "text/plain": [
       "<Figure size 640x480 with 1 Axes>"
      ]
     },
     "metadata": {},
     "output_type": "display_data"
    }
   ],
   "source": [
    "# Scatter plot showing the relationship between 'chocolate' and 'winpercent'\n",
    "sns.swarmplot(x = candy_data['chocolate'] , y = candy_data['winpercent']) # Your code here\n",
    "\n",
    "# Check your answer\n",
    "step_7.a.check()"
   ]
  },
  {
   "cell_type": "code",
   "execution_count": 23,
   "id": "3f8cc6b8",
   "metadata": {
    "execution": {
     "iopub.execute_input": "2023-02-27T21:00:41.993961Z",
     "iopub.status.busy": "2023-02-27T21:00:41.993557Z",
     "iopub.status.idle": "2023-02-27T21:00:41.998493Z",
     "shell.execute_reply": "2023-02-27T21:00:41.997326Z"
    },
    "papermill": {
     "duration": 0.022281,
     "end_time": "2023-02-27T21:00:42.000837",
     "exception": false,
     "start_time": "2023-02-27T21:00:41.978556",
     "status": "completed"
    },
    "tags": []
   },
   "outputs": [],
   "source": [
    "# Lines below will give you a hint or solution code\n",
    "#step_7.a.hint()\n",
    "#step_7.a.solution_plot()"
   ]
  },
  {
   "cell_type": "markdown",
   "id": "f02b3a06",
   "metadata": {
    "papermill": {
     "duration": 0.012537,
     "end_time": "2023-02-27T21:00:42.026742",
     "exception": false,
     "start_time": "2023-02-27T21:00:42.014205",
     "status": "completed"
    },
    "tags": []
   },
   "source": [
    "#### Part B\n",
    "\n",
    "You decide to dedicate a section of your report to the fact that chocolate candies tend to be more popular than candies without chocolate.  Which plot is more appropriate to tell this story: the plot from **Step 6**, or the plot from **Step 7**?"
   ]
  },
  {
   "cell_type": "code",
   "execution_count": 24,
   "id": "cf701e5c",
   "metadata": {
    "execution": {
     "iopub.execute_input": "2023-02-27T21:00:42.054663Z",
     "iopub.status.busy": "2023-02-27T21:00:42.053670Z",
     "iopub.status.idle": "2023-02-27T21:00:42.058559Z",
     "shell.execute_reply": "2023-02-27T21:00:42.057401Z"
    },
    "papermill": {
     "duration": 0.021394,
     "end_time": "2023-02-27T21:00:42.061053",
     "exception": false,
     "start_time": "2023-02-27T21:00:42.039659",
     "status": "completed"
    },
    "tags": []
   },
   "outputs": [],
   "source": [
    "#step_7.b.hint()"
   ]
  },
  {
   "cell_type": "code",
   "execution_count": 25,
   "id": "daae2be2",
   "metadata": {
    "execution": {
     "iopub.execute_input": "2023-02-27T21:00:42.088349Z",
     "iopub.status.busy": "2023-02-27T21:00:42.087973Z",
     "iopub.status.idle": "2023-02-27T21:00:42.095721Z",
     "shell.execute_reply": "2023-02-27T21:00:42.094755Z"
    },
    "papermill": {
     "duration": 0.023926,
     "end_time": "2023-02-27T21:00:42.097855",
     "exception": false,
     "start_time": "2023-02-27T21:00:42.073929",
     "status": "completed"
    },
    "tags": []
   },
   "outputs": [
    {
     "data": {
      "application/javascript": [
       "parent.postMessage({\"jupyterEvent\": \"custom.exercise_interaction\", \"data\": {\"interactionType\": 3, \"questionType\": 4, \"questionId\": \"7.2_ThinkSwarm\", \"learnToolsVersion\": \"0.3.4\", \"valueTowardsCompletion\": 0.0, \"failureMessage\": \"\", \"exceptionClass\": \"\", \"trace\": \"\", \"outcomeType\": 4}}, \"*\")"
      ],
      "text/plain": [
       "<IPython.core.display.Javascript object>"
      ]
     },
     "metadata": {},
     "output_type": "display_data"
    },
    {
     "data": {
      "text/markdown": [
       "<span style=\"color:#33cc99\">Solution:</span> In this case, the categorical scatter plot from **Step 7** is the more appropriate plot. While both plots tell the desired story, the plot from **Step 6** conveys far more information that could distract from the main point."
      ],
      "text/plain": [
       "Solution: In this case, the categorical scatter plot from **Step 7** is the more appropriate plot. While both plots tell the desired story, the plot from **Step 6** conveys far more information that could distract from the main point."
      ]
     },
     "metadata": {},
     "output_type": "display_data"
    }
   ],
   "source": [
    "# Check your answer (Run this code cell to receive credit!)\n",
    "step_7.b.solution()"
   ]
  },
  {
   "cell_type": "markdown",
   "id": "3268e3c3",
   "metadata": {
    "papermill": {
     "duration": 0.012749,
     "end_time": "2023-02-27T21:00:42.124145",
     "exception": false,
     "start_time": "2023-02-27T21:00:42.111396",
     "status": "completed"
    },
    "tags": []
   },
   "source": [
    "## Keep going\n",
    "\n",
    "Explore **[histograms and density plots](https://www.kaggle.com/alexisbcook/distributions)**."
   ]
  },
  {
   "cell_type": "markdown",
   "id": "2f624b7c",
   "metadata": {
    "papermill": {
     "duration": 0.012355,
     "end_time": "2023-02-27T21:00:42.149092",
     "exception": false,
     "start_time": "2023-02-27T21:00:42.136737",
     "status": "completed"
    },
    "tags": []
   },
   "source": [
    "---\n",
    "\n",
    "\n",
    "\n",
    "\n",
    "*Have questions or comments? Visit the [course discussion forum](https://www.kaggle.com/learn/data-visualization/discussion) to chat with other learners.*"
   ]
  }
 ],
 "metadata": {
  "kernelspec": {
   "display_name": "Python 3",
   "language": "python",
   "name": "python3"
  },
  "language_info": {
   "codemirror_mode": {
    "name": "ipython",
    "version": 3
   },
   "file_extension": ".py",
   "mimetype": "text/x-python",
   "name": "python",
   "nbconvert_exporter": "python",
   "pygments_lexer": "ipython3",
   "version": "3.7.12"
  },
  "papermill": {
   "default_parameters": {},
   "duration": 14.97318,
   "end_time": "2023-02-27T21:00:42.984651",
   "environment_variables": {},
   "exception": null,
   "input_path": "__notebook__.ipynb",
   "output_path": "__notebook__.ipynb",
   "parameters": {},
   "start_time": "2023-02-27T21:00:28.011471",
   "version": "2.4.0"
  }
 },
 "nbformat": 4,
 "nbformat_minor": 5
}
